{
 "cells": [
  {
   "cell_type": "code",
   "execution_count": 1,
   "metadata": {},
   "outputs": [],
   "source": [
    "import pandas as pd\n",
    "import numpy as np\n",
    "import seaborn as sns\n",
    "import matplotlib.pyplot as plt\n",
    "%matplotlib inline\n",
    "from datetime import timedelta"
   ]
  },
  {
   "cell_type": "code",
   "execution_count": 2,
   "metadata": {},
   "outputs": [],
   "source": [
    "#Загрузка файлов\n",
    "df_customers   = pd.read_csv(f'https://getfile.dokpub.com/yandex/get/https://disk.yandex.ru/d/FUi5uSd6BfG_ig')\n",
    "df_orders      = pd.read_csv(f'https://getfile.dokpub.com/yandex/get/https://disk.yandex.ru/d/t9Li4JOfgxuUrg')\n",
    "df_order_items = pd.read_csv(f'https://getfile.dokpub.com/yandex/get/https://disk.yandex.ru/d/Gbt-yAcQrOe3Pw')"
   ]
  },
  {
   "cell_type": "code",
   "execution_count": 3,
   "metadata": {},
   "outputs": [
    {
     "data": {
      "text/plain": [
       "customer_id                 0\n",
       "customer_unique_id          0\n",
       "customer_zip_code_prefix    0\n",
       "customer_city               0\n",
       "customer_state              0\n",
       "dtype: int64"
      ]
     },
     "execution_count": 3,
     "metadata": {},
     "output_type": "execute_result"
    }
   ],
   "source": [
    "#Проверка на наличие пропущенных значений\n",
    "df_customers.isna().sum()"
   ]
  },
  {
   "cell_type": "code",
   "execution_count": 4,
   "metadata": {},
   "outputs": [
    {
     "data": {
      "text/plain": [
       "order_id                            0\n",
       "customer_id                         0\n",
       "order_status                        0\n",
       "order_purchase_timestamp            0\n",
       "order_approved_at                 160\n",
       "order_delivered_carrier_date     1783\n",
       "order_delivered_customer_date    2965\n",
       "order_estimated_delivery_date       0\n",
       "dtype: int64"
      ]
     },
     "execution_count": 4,
     "metadata": {},
     "output_type": "execute_result"
    }
   ],
   "source": [
    "df_orders.isna().sum()"
   ]
  },
  {
   "cell_type": "code",
   "execution_count": 5,
   "metadata": {},
   "outputs": [
    {
     "data": {
      "text/plain": [
       "order_id               0\n",
       "order_item_id          0\n",
       "product_id             0\n",
       "seller_id              0\n",
       "shipping_limit_date    0\n",
       "price                  0\n",
       "freight_value          0\n",
       "dtype: int64"
      ]
     },
     "execution_count": 5,
     "metadata": {},
     "output_type": "execute_result"
    }
   ],
   "source": [
    "df_order_items.isnull().sum()"
   ]
  },
  {
   "cell_type": "code",
   "execution_count": 6,
   "metadata": {},
   "outputs": [
    {
     "data": {
      "text/plain": [
       "(99441, 5)"
      ]
     },
     "execution_count": 6,
     "metadata": {},
     "output_type": "execute_result"
    }
   ],
   "source": [
    "#Проверка размера таблиц\n",
    "df_customers.shape"
   ]
  },
  {
   "cell_type": "code",
   "execution_count": 7,
   "metadata": {},
   "outputs": [
    {
     "data": {
      "text/plain": [
       "(99441, 8)"
      ]
     },
     "execution_count": 7,
     "metadata": {},
     "output_type": "execute_result"
    }
   ],
   "source": [
    "df_orders.shape"
   ]
  },
  {
   "cell_type": "code",
   "execution_count": 8,
   "metadata": {},
   "outputs": [
    {
     "data": {
      "text/plain": [
       "(112650, 7)"
      ]
     },
     "execution_count": 8,
     "metadata": {},
     "output_type": "execute_result"
    }
   ],
   "source": [
    "df_order_items.shape"
   ]
  },
  {
   "cell_type": "code",
   "execution_count": 9,
   "metadata": {},
   "outputs": [],
   "source": [
    "#Конвертируем таймстэмп в дату\n",
    "df_orders.order_purchase_timestamp=pd.to_datetime(df_orders.order_purchase_timestamp)\n",
    "df_orders.order_delivered_customer_date=pd.to_datetime(df_orders.order_delivered_customer_date)\n",
    "df_orders.order_approved_at=pd.to_datetime(df_orders.order_approved_at)\n",
    "df_orders.order_estimated_delivery_date=pd.to_datetime(df_orders.order_estimated_delivery_date)"
   ]
  },
  {
   "cell_type": "markdown",
   "metadata": {},
   "source": [
    "# 1. Сколько у нас пользователей, которые совершили покупку только один раз?"
   ]
  },
  {
   "cell_type": "code",
   "execution_count": 10,
   "metadata": {},
   "outputs": [],
   "source": [
    "#Объединение таблиц покупателей и заказов\n",
    "df_customers_and_orders = df_customers.merge(df_orders, on='customer_id')"
   ]
  },
  {
   "cell_type": "code",
   "execution_count": 11,
   "metadata": {},
   "outputs": [
    {
     "data": {
      "text/plain": [
       "(99441, 12)"
      ]
     },
     "execution_count": 11,
     "metadata": {},
     "output_type": "execute_result"
    }
   ],
   "source": [
    "df_customers_and_orders.shape"
   ]
  },
  {
   "cell_type": "markdown",
   "metadata": {},
   "source": [
    "Изначально предположим, что к покупкам относятся все оплаченные заказы, то есть order_approved_at не равно NaN"
   ]
  },
  {
   "cell_type": "code",
   "execution_count": 12,
   "metadata": {},
   "outputs": [
    {
     "data": {
      "text/plain": [
       "array(['delivered', 'canceled', 'invoiced', 'shipped', 'processing',\n",
       "       'unavailable', 'approved', 'created'], dtype=object)"
      ]
     },
     "execution_count": 12,
     "metadata": {},
     "output_type": "execute_result"
    }
   ],
   "source": [
    "#Возможные статусы заказов:\n",
    "df_customers_and_orders.order_status.unique()"
   ]
  },
  {
   "cell_type": "code",
   "execution_count": 13,
   "metadata": {},
   "outputs": [
    {
     "data": {
      "text/html": [
       "<div>\n",
       "<style scoped>\n",
       "    .dataframe tbody tr th:only-of-type {\n",
       "        vertical-align: middle;\n",
       "    }\n",
       "\n",
       "    .dataframe tbody tr th {\n",
       "        vertical-align: top;\n",
       "    }\n",
       "\n",
       "    .dataframe thead th {\n",
       "        text-align: right;\n",
       "    }\n",
       "</style>\n",
       "<table border=\"1\" class=\"dataframe\">\n",
       "  <thead>\n",
       "    <tr style=\"text-align: right;\">\n",
       "      <th></th>\n",
       "      <th>order_status</th>\n",
       "    </tr>\n",
       "    <tr>\n",
       "      <th>order_id</th>\n",
       "      <th></th>\n",
       "    </tr>\n",
       "  </thead>\n",
       "  <tbody>\n",
       "    <tr>\n",
       "      <th>00010242fe8c5a6d1ba2dd792cb16214</th>\n",
       "      <td>1</td>\n",
       "    </tr>\n",
       "    <tr>\n",
       "      <th>ab30f399d360ddf62897051d813f887d</th>\n",
       "      <td>1</td>\n",
       "    </tr>\n",
       "    <tr>\n",
       "      <th>ab30819331b8ee6115370bcfa01a8350</th>\n",
       "      <td>1</td>\n",
       "    </tr>\n",
       "    <tr>\n",
       "      <th>ab3049853be314c3dcc3721cea4438e1</th>\n",
       "      <td>1</td>\n",
       "    </tr>\n",
       "    <tr>\n",
       "      <th>ab2fa8175483622f44ca36cf7f9198b2</th>\n",
       "      <td>1</td>\n",
       "    </tr>\n",
       "    <tr>\n",
       "      <th>...</th>\n",
       "      <td>...</td>\n",
       "    </tr>\n",
       "    <tr>\n",
       "      <th>55534471fcbe2dd1436234e7cfa4de5a</th>\n",
       "      <td>1</td>\n",
       "    </tr>\n",
       "    <tr>\n",
       "      <th>55531bd6b11adf2791aeca35f0305e65</th>\n",
       "      <td>1</td>\n",
       "    </tr>\n",
       "    <tr>\n",
       "      <th>55529dc7cb99d0befad66b19ad9adc8d</th>\n",
       "      <td>1</td>\n",
       "    </tr>\n",
       "    <tr>\n",
       "      <th>555d7aa9a2893149ace06d73b09b59b5</th>\n",
       "      <td>1</td>\n",
       "    </tr>\n",
       "    <tr>\n",
       "      <th>fffe41c64501cc87c801fd61db3f6244</th>\n",
       "      <td>1</td>\n",
       "    </tr>\n",
       "  </tbody>\n",
       "</table>\n",
       "<p>99441 rows × 1 columns</p>\n",
       "</div>"
      ],
      "text/plain": [
       "                                  order_status\n",
       "order_id                                      \n",
       "00010242fe8c5a6d1ba2dd792cb16214             1\n",
       "ab30f399d360ddf62897051d813f887d             1\n",
       "ab30819331b8ee6115370bcfa01a8350             1\n",
       "ab3049853be314c3dcc3721cea4438e1             1\n",
       "ab2fa8175483622f44ca36cf7f9198b2             1\n",
       "...                                        ...\n",
       "55534471fcbe2dd1436234e7cfa4de5a             1\n",
       "55531bd6b11adf2791aeca35f0305e65             1\n",
       "55529dc7cb99d0befad66b19ad9adc8d             1\n",
       "555d7aa9a2893149ace06d73b09b59b5             1\n",
       "fffe41c64501cc87c801fd61db3f6244             1\n",
       "\n",
       "[99441 rows x 1 columns]"
      ]
     },
     "execution_count": 13,
     "metadata": {},
     "output_type": "execute_result"
    }
   ],
   "source": [
    "#Проверка существуют ли заказы с несколькими статусами, для каждого заказа -  1 статус \n",
    "#это значит, что здесь представлен последний имеющийся статус заказа\n",
    "df_customers_and_orders\\\n",
    "    .groupby('order_id')\\\n",
    "    .agg({'order_status' : 'count'})\\\n",
    "    .sort_values(by=['order_status'])"
   ]
  },
  {
   "cell_type": "code",
   "execution_count": 14,
   "metadata": {},
   "outputs": [
    {
     "data": {
      "text/html": [
       "<div>\n",
       "<style scoped>\n",
       "    .dataframe tbody tr th:only-of-type {\n",
       "        vertical-align: middle;\n",
       "    }\n",
       "\n",
       "    .dataframe tbody tr th {\n",
       "        vertical-align: top;\n",
       "    }\n",
       "\n",
       "    .dataframe thead th {\n",
       "        text-align: right;\n",
       "    }\n",
       "</style>\n",
       "<table border=\"1\" class=\"dataframe\">\n",
       "  <thead>\n",
       "    <tr style=\"text-align: right;\">\n",
       "      <th></th>\n",
       "      <th>order_id</th>\n",
       "    </tr>\n",
       "    <tr>\n",
       "      <th>order_status</th>\n",
       "      <th></th>\n",
       "    </tr>\n",
       "  </thead>\n",
       "  <tbody>\n",
       "    <tr>\n",
       "      <th>delivered</th>\n",
       "      <td>96464</td>\n",
       "    </tr>\n",
       "    <tr>\n",
       "      <th>shipped</th>\n",
       "      <td>1107</td>\n",
       "    </tr>\n",
       "    <tr>\n",
       "      <th>unavailable</th>\n",
       "      <td>609</td>\n",
       "    </tr>\n",
       "    <tr>\n",
       "      <th>canceled</th>\n",
       "      <td>484</td>\n",
       "    </tr>\n",
       "    <tr>\n",
       "      <th>invoiced</th>\n",
       "      <td>314</td>\n",
       "    </tr>\n",
       "    <tr>\n",
       "      <th>processing</th>\n",
       "      <td>301</td>\n",
       "    </tr>\n",
       "    <tr>\n",
       "      <th>approved</th>\n",
       "      <td>2</td>\n",
       "    </tr>\n",
       "  </tbody>\n",
       "</table>\n",
       "</div>"
      ],
      "text/plain": [
       "              order_id\n",
       "order_status          \n",
       "delivered        96464\n",
       "shipped           1107\n",
       "unavailable        609\n",
       "canceled           484\n",
       "invoiced           314\n",
       "processing         301\n",
       "approved             2"
      ]
     },
     "execution_count": 14,
     "metadata": {},
     "output_type": "execute_result"
    }
   ],
   "source": [
    "#Посмотрим на разбивку заказов в зависимости от статуса\n",
    "df_customers_and_orders['order_approved']=df_customers_and_orders.order_approved_at.notna()\n",
    "df_customers_and_orders\\\n",
    "    .query(\"order_approved == True \")\\\n",
    "    .groupby('order_status')\\\n",
    "    .agg({'order_id':'count'})\\\n",
    "    .sort_values(by='order_id', ascending=False)"
   ]
  },
  {
   "cell_type": "markdown",
   "metadata": {},
   "source": [
    "здесь можно увидеть, что оплаченных заказов в статусе 'created' нет, что не противоречит логике\n",
    "так же есть только 2 оплаченных заказа до выставления счета, что тоже впринципе адекватно"
   ]
  },
  {
   "cell_type": "code",
   "execution_count": 15,
   "metadata": {},
   "outputs": [
    {
     "data": {
      "text/html": [
       "<div>\n",
       "<style scoped>\n",
       "    .dataframe tbody tr th:only-of-type {\n",
       "        vertical-align: middle;\n",
       "    }\n",
       "\n",
       "    .dataframe tbody tr th {\n",
       "        vertical-align: top;\n",
       "    }\n",
       "\n",
       "    .dataframe thead th {\n",
       "        text-align: right;\n",
       "    }\n",
       "</style>\n",
       "<table border=\"1\" class=\"dataframe\">\n",
       "  <thead>\n",
       "    <tr style=\"text-align: right;\">\n",
       "      <th></th>\n",
       "      <th>order_id</th>\n",
       "    </tr>\n",
       "    <tr>\n",
       "      <th>order_delivered_customer_date</th>\n",
       "      <th></th>\n",
       "    </tr>\n",
       "  </thead>\n",
       "  <tbody>\n",
       "    <tr>\n",
       "      <th>2016-10-14 15:07:11</th>\n",
       "      <td>1</td>\n",
       "    </tr>\n",
       "    <tr>\n",
       "      <th>2016-10-16 14:36:59</th>\n",
       "      <td>1</td>\n",
       "    </tr>\n",
       "    <tr>\n",
       "      <th>2016-10-19 18:47:43</th>\n",
       "      <td>1</td>\n",
       "    </tr>\n",
       "    <tr>\n",
       "      <th>2016-11-08 10:58:34</th>\n",
       "      <td>1</td>\n",
       "    </tr>\n",
       "    <tr>\n",
       "      <th>2016-11-09 14:53:50</th>\n",
       "      <td>1</td>\n",
       "    </tr>\n",
       "    <tr>\n",
       "      <th>2018-03-21 22:03:51</th>\n",
       "      <td>1</td>\n",
       "    </tr>\n",
       "  </tbody>\n",
       "</table>\n",
       "</div>"
      ],
      "text/plain": [
       "                               order_id\n",
       "order_delivered_customer_date          \n",
       "2016-10-14 15:07:11                   1\n",
       "2016-10-16 14:36:59                   1\n",
       "2016-10-19 18:47:43                   1\n",
       "2016-11-08 10:58:34                   1\n",
       "2016-11-09 14:53:50                   1\n",
       "2018-03-21 22:03:51                   1"
      ]
     },
     "execution_count": 15,
     "metadata": {},
     "output_type": "execute_result"
    }
   ],
   "source": [
    "#так как есть статус заказа 'canceled', посморим на него подробнее\n",
    "df_customers_and_orders.query(\"order_status == 'canceled' \").groupby('order_delivered_customer_date').agg({'order_id':'count'}) "
   ]
  },
  {
   "cell_type": "markdown",
   "metadata": {},
   "source": [
    "по 6 отмененным закзазам время достаки не равно NaN, можно сделать предположение, что заказ может быть отменен и после доставки\n",
    "это значит, что считать покупкой оплаченные заказы, у которых проставлена order_delivered_customer_date нельзя "
   ]
  },
  {
   "cell_type": "code",
   "execution_count": 16,
   "metadata": {},
   "outputs": [
    {
     "data": {
      "text/plain": [
       "(609, 13)"
      ]
     },
     "execution_count": 16,
     "metadata": {},
     "output_type": "execute_result"
    }
   ],
   "source": [
    "#также посмотрим на статус заказа 'unavailable'\n",
    "df_unavailable=df_customers_and_orders.query(\"order_status == 'unavailable'\") \n",
    "df_unavailable.shape"
   ]
  },
  {
   "cell_type": "code",
   "execution_count": 17,
   "metadata": {},
   "outputs": [
    {
     "data": {
      "text/plain": [
       "customer_id                        0\n",
       "customer_unique_id                 0\n",
       "customer_zip_code_prefix           0\n",
       "customer_city                      0\n",
       "customer_state                     0\n",
       "order_id                           0\n",
       "order_status                       0\n",
       "order_purchase_timestamp           0\n",
       "order_approved_at                  0\n",
       "order_delivered_carrier_date     609\n",
       "order_delivered_customer_date    609\n",
       "order_estimated_delivery_date      0\n",
       "order_approved                     0\n",
       "dtype: int64"
      ]
     },
     "execution_count": 17,
     "metadata": {},
     "output_type": "execute_result"
    }
   ],
   "source": [
    "df_unavailable.isna().sum()"
   ]
  },
  {
   "cell_type": "markdown",
   "metadata": {},
   "source": [
    "так как ни по одному заказу со статусом 'unavailable' нет информации о дате передачи заказа в логистическую службу\n",
    "и дате отгрузки, считаю, лучше эти заказы из покупок исключить, так как вряд ли по ним будут какие-то изменения\n",
    "таким образом, покупкой будем считать оплаченные заказы, у которых статус заказа не равен 'canceled' или 'unavailable'"
   ]
  },
  {
   "cell_type": "code",
   "execution_count": 18,
   "metadata": {},
   "outputs": [
    {
     "data": {
      "text/plain": [
       "order_count    92087\n",
       "dtype: int64"
      ]
     },
     "execution_count": 18,
     "metadata": {},
     "output_type": "execute_result"
    }
   ],
   "source": [
    "df_customers_and_orders\\\n",
    "    .query(\"order_approved == True and order_status != 'canceled' and order_status != 'unavailable'\")\\\n",
    "    .groupby ('customer_unique_id')\\\n",
    "    .agg({'order_id':'count'})\\\n",
    "    .rename(columns={\"order_id\":\"order_count\"})\\\n",
    "    .query(\"order_count==1\")\\\n",
    "    .count()"
   ]
  },
  {
   "cell_type": "markdown",
   "metadata": {},
   "source": [
    "ответ задание_1: пользователей, совершивших только 1 покупку - 92 087 "
   ]
  },
  {
   "cell_type": "markdown",
   "metadata": {},
   "source": [
    "# 2. Сколько заказов в месяц в среднем не доставляется по разным причинам (вывести детализацию по причинам)?"
   ]
  },
  {
   "cell_type": "code",
   "execution_count": 19,
   "metadata": {
    "scrolled": true
   },
   "outputs": [],
   "source": [
    "#для определения месяца доставки заказа используем обещанную дату заказа\n",
    "#так как это месяц, в котором доставкка должна была быть осуществлена, и в этой колонке нет пропущенных значений\n",
    "#извлечем месяц из даты\n",
    "df_orders['delivery_month']=df_orders.order_estimated_delivery_date.dt.to_period(\"M\")"
   ]
  },
  {
   "cell_type": "code",
   "execution_count": 20,
   "metadata": {},
   "outputs": [],
   "source": [
    "#к заказам, по которым не была осуществлена доставка отнесем заказы, по которым отсутсвует время доставки заказа\n",
    "df_orders['order_delivered']=df_orders.order_delivered_customer_date.isna()"
   ]
  },
  {
   "cell_type": "code",
   "execution_count": 21,
   "metadata": {},
   "outputs": [
    {
     "data": {
      "text/html": [
       "<div>\n",
       "<style scoped>\n",
       "    .dataframe tbody tr th:only-of-type {\n",
       "        vertical-align: middle;\n",
       "    }\n",
       "\n",
       "    .dataframe tbody tr th {\n",
       "        vertical-align: top;\n",
       "    }\n",
       "\n",
       "    .dataframe thead th {\n",
       "        text-align: right;\n",
       "    }\n",
       "</style>\n",
       "<table border=\"1\" class=\"dataframe\">\n",
       "  <thead>\n",
       "    <tr style=\"text-align: right;\">\n",
       "      <th></th>\n",
       "      <th>order_id</th>\n",
       "    </tr>\n",
       "    <tr>\n",
       "      <th>order_status</th>\n",
       "      <th></th>\n",
       "    </tr>\n",
       "  </thead>\n",
       "  <tbody>\n",
       "    <tr>\n",
       "      <th>approved</th>\n",
       "      <td>2</td>\n",
       "    </tr>\n",
       "    <tr>\n",
       "      <th>canceled</th>\n",
       "      <td>619</td>\n",
       "    </tr>\n",
       "    <tr>\n",
       "      <th>created</th>\n",
       "      <td>5</td>\n",
       "    </tr>\n",
       "    <tr>\n",
       "      <th>delivered</th>\n",
       "      <td>8</td>\n",
       "    </tr>\n",
       "    <tr>\n",
       "      <th>invoiced</th>\n",
       "      <td>314</td>\n",
       "    </tr>\n",
       "    <tr>\n",
       "      <th>processing</th>\n",
       "      <td>301</td>\n",
       "    </tr>\n",
       "    <tr>\n",
       "      <th>shipped</th>\n",
       "      <td>1107</td>\n",
       "    </tr>\n",
       "    <tr>\n",
       "      <th>unavailable</th>\n",
       "      <td>609</td>\n",
       "    </tr>\n",
       "  </tbody>\n",
       "</table>\n",
       "</div>"
      ],
      "text/plain": [
       "              order_id\n",
       "order_status          \n",
       "approved             2\n",
       "canceled           619\n",
       "created              5\n",
       "delivered            8\n",
       "invoiced           314\n",
       "processing         301\n",
       "shipped           1107\n",
       "unavailable        609"
      ]
     },
     "execution_count": 21,
     "metadata": {},
     "output_type": "execute_result"
    }
   ],
   "source": [
    "#посмотрим на статусы таких заказов\n",
    "df_orders\\\n",
    "    .query(\"order_delivered == True\")\\\n",
    "    .groupby('order_status')\\\n",
    "    .agg({'order_id':'count'}) "
   ]
  },
  {
   "cell_type": "markdown",
   "metadata": {},
   "source": [
    "отсюда можно выделить 3 основные причины, почему заказ не был доставлен:\n",
    "\n",
    "-заказ еще в процессе обработки\n",
    "\n",
    "-заказ отменен либо его статус неизвестен\n",
    "\n",
    "-заказ в статусе \"отгружен со склада\" слишком давно и нет времени его доставки\n",
    "\n",
    "что касается 8 заказов в статусе \"доставлен пользователю\", эо больше похоже на ошибку, эти заказы вычтем из недоставленных\n",
    "\n",
    "рассчитаем среднемесячное значение для каждой из причин"
   ]
  },
  {
   "cell_type": "code",
   "execution_count": 22,
   "metadata": {},
   "outputs": [
    {
     "data": {
      "text/plain": [
       "order_id    29.62\n",
       "dtype: float64"
      ]
     },
     "execution_count": 22,
     "metadata": {},
     "output_type": "execute_result"
    }
   ],
   "source": [
    "#заказ еще в процессе обработки либо доставки\n",
    "var_1 = df_orders\\\n",
    "    .query(\"(order_status == 'approved' or order_status == 'created' or order_status == 'invoiced' or order_status == 'processing') and order_delivered == True \")\\\n",
    "    .groupby('delivery_month')\\\n",
    "    .agg({'order_id':'count'})\n",
    "var_1_sum=var_1.sum()\n",
    "var_1.mean().round(2)"
   ]
  },
  {
   "cell_type": "code",
   "execution_count": 23,
   "metadata": {},
   "outputs": [
    {
     "data": {
      "text/plain": [
       "order_id    47.23\n",
       "dtype: float64"
      ]
     },
     "execution_count": 23,
     "metadata": {},
     "output_type": "execute_result"
    }
   ],
   "source": [
    "#заказ отменен либо его статус неизвестен\n",
    "var_2 = df_orders\\\n",
    "    .query(\"(order_status == 'canceled' or order_status == 'unavailable') and order_delivered == True \")\\\n",
    "    .groupby('delivery_month')\\\n",
    "    .agg({'order_id':'count'})\n",
    "var_2_sum=var_2.sum()\n",
    "var_2.mean().round(2)"
   ]
  },
  {
   "cell_type": "markdown",
   "metadata": {},
   "source": [
    "теперь подробнее посмотрим на заказы в статусе \"отгружен со склада\"\n",
    "\n",
    "здесь могут быть 2 варианта, почему заказ не доставлен:\n",
    "\n",
    "-дата предполагаемой доставки на момент выгрузки таблицы еще не наступила (таких нужно отнести к 1 выборке)\n",
    "\n",
    "-доставка просрочена либо какая-то ошибка\n",
    "\n",
    "чтобы понять, на какую последнюю дату у нас есть информация о доставке, будем использовать order_delivered_customer_date max\n",
    "\n",
    "если order_estimated_delivery_date > order_delivered_customer_date max, значит дата доставки еще не наступила\n",
    "\n",
    "если order_estimated_delivery_date <= order_delivered_customer_date max, значит дата доставки просрочена"
   ]
  },
  {
   "cell_type": "code",
   "execution_count": 24,
   "metadata": {},
   "outputs": [],
   "source": [
    "delivery_date_max=df_orders.order_delivered_customer_date.max()"
   ]
  },
  {
   "cell_type": "code",
   "execution_count": 25,
   "metadata": {},
   "outputs": [
    {
     "data": {
      "text/html": [
       "<div>\n",
       "<style scoped>\n",
       "    .dataframe tbody tr th:only-of-type {\n",
       "        vertical-align: middle;\n",
       "    }\n",
       "\n",
       "    .dataframe tbody tr th {\n",
       "        vertical-align: top;\n",
       "    }\n",
       "\n",
       "    .dataframe thead th {\n",
       "        text-align: right;\n",
       "    }\n",
       "</style>\n",
       "<table border=\"1\" class=\"dataframe\">\n",
       "  <thead>\n",
       "    <tr style=\"text-align: right;\">\n",
       "      <th></th>\n",
       "      <th>order_id</th>\n",
       "    </tr>\n",
       "    <tr>\n",
       "      <th>delivery_month</th>\n",
       "      <th></th>\n",
       "    </tr>\n",
       "  </thead>\n",
       "  <tbody>\n",
       "  </tbody>\n",
       "</table>\n",
       "</div>"
      ],
      "text/plain": [
       "Empty DataFrame\n",
       "Columns: [order_id]\n",
       "Index: []"
      ]
     },
     "execution_count": 25,
     "metadata": {},
     "output_type": "execute_result"
    }
   ],
   "source": [
    "df_orders\\\n",
    "    .query(\"order_status == 'shipped' and order_delivered == True and order_delivered_carrier_date > 'delivery_date_max' \")\\\n",
    "    .groupby('delivery_month')\\\n",
    "    .agg({'order_id':'count'})"
   ]
  },
  {
   "cell_type": "markdown",
   "metadata": {},
   "source": [
    "недоставленных заказов в статусе \"отгружен со склада\", дата доставки по которым еще не наступила, нет\n",
    "\n",
    "значит всех относим ко 2 варианту"
   ]
  },
  {
   "cell_type": "code",
   "execution_count": 26,
   "metadata": {},
   "outputs": [
    {
     "data": {
      "text/plain": [
       "order_id    48.13\n",
       "dtype: float64"
      ]
     },
     "execution_count": 26,
     "metadata": {},
     "output_type": "execute_result"
    }
   ],
   "source": [
    "#заказ отменен либо его статус неизвестен\n",
    "var_3 = df_orders\\\n",
    "    .query(\"order_status == 'shipped' and order_delivered == True \")\\\n",
    "    .groupby('delivery_month')\\\n",
    "    .agg({'order_id':'count'})\n",
    "var_3_sum=var_3.sum()\n",
    "var_3.mean().round(2)"
   ]
  },
  {
   "cell_type": "code",
   "execution_count": 27,
   "metadata": {},
   "outputs": [
    {
     "data": {
      "text/plain": [
       "order_id    43.86\n",
       "dtype: float64"
      ]
     },
     "execution_count": 27,
     "metadata": {},
     "output_type": "execute_result"
    }
   ],
   "source": [
    "#теперь, когда рассчитали средние для каждой причины, рассчитаем средневзвешанную\n",
    "((var_1.mean()*var_1_sum+var_2.mean()*var_2_sum+var_3.mean()*var_3_sum)/(var_1_sum+var_2_sum+var_3_sum)).round(2)"
   ]
  },
  {
   "cell_type": "markdown",
   "metadata": {},
   "source": [
    "ответ задание_2: таким образом, по разным причинам в среднем в месяц не доставляется 43.86 заказа, в том числе\n",
    "\n",
    "29.62 из-за того, что заказ в обработке\n",
    "\n",
    "47.23 из-за того, что заказ отменен или его статус неизвестен\n",
    "\n",
    "48.13 из-за того, что заказ в статусе \"отгружен со склада\", но дата доставки отсутвует(нужно направлять запрос логистике)"
   ]
  },
  {
   "cell_type": "markdown",
   "metadata": {},
   "source": [
    "# 3. По каждому товару определить, в какой день недели товар чаще всего покупается."
   ]
  },
  {
   "cell_type": "code",
   "execution_count": 28,
   "metadata": {},
   "outputs": [
    {
     "data": {
      "text/plain": [
       "99441"
      ]
     },
     "execution_count": 28,
     "metadata": {},
     "output_type": "execute_result"
    }
   ],
   "source": [
    "df_orders.order_id.nunique()"
   ]
  },
  {
   "cell_type": "code",
   "execution_count": 29,
   "metadata": {},
   "outputs": [
    {
     "data": {
      "text/plain": [
       "98666"
      ]
     },
     "execution_count": 29,
     "metadata": {},
     "output_type": "execute_result"
    }
   ],
   "source": [
    "df_order_items.order_id.nunique()"
   ]
  },
  {
   "cell_type": "code",
   "execution_count": 30,
   "metadata": {},
   "outputs": [],
   "source": [
    "#объединение таблиц заказов и товаров, так как в таблице товаров уникальных значений order_id меньше, используем inner join\n",
    "df_orders_and_items = df_orders.merge(df_order_items, on='order_id')"
   ]
  },
  {
   "cell_type": "code",
   "execution_count": 31,
   "metadata": {},
   "outputs": [
    {
     "data": {
      "text/plain": [
       "32951"
      ]
     },
     "execution_count": 31,
     "metadata": {},
     "output_type": "execute_result"
    }
   ],
   "source": [
    "#количество уникальных товаров\n",
    "df_orders_and_items.product_id.nunique()"
   ]
  },
  {
   "cell_type": "code",
   "execution_count": 32,
   "metadata": {},
   "outputs": [],
   "source": [
    "#в качестве даты покупки будем использовать дату оплаты товара, так как покупкой считаем тот заказ, который оплатили\n",
    "#извлечем из даты день недели\n",
    "df_orders_and_items['purchase_day']=df_orders_and_items.order_approved_at.dt.day_name()"
   ]
  },
  {
   "cell_type": "code",
   "execution_count": 33,
   "metadata": {},
   "outputs": [
    {
     "data": {
      "text/html": [
       "<div>\n",
       "<style scoped>\n",
       "    .dataframe tbody tr th:only-of-type {\n",
       "        vertical-align: middle;\n",
       "    }\n",
       "\n",
       "    .dataframe tbody tr th {\n",
       "        vertical-align: top;\n",
       "    }\n",
       "\n",
       "    .dataframe thead th {\n",
       "        text-align: right;\n",
       "    }\n",
       "</style>\n",
       "<table border=\"1\" class=\"dataframe\">\n",
       "  <thead>\n",
       "    <tr style=\"text-align: right;\">\n",
       "      <th></th>\n",
       "      <th>product_id</th>\n",
       "      <th>purchase_day</th>\n",
       "      <th>purchase_count</th>\n",
       "    </tr>\n",
       "  </thead>\n",
       "  <tbody>\n",
       "    <tr>\n",
       "      <th>0</th>\n",
       "      <td>00066f42aeeb9f3007548bb9d3f33c38</td>\n",
       "      <td>Sunday</td>\n",
       "      <td>1</td>\n",
       "    </tr>\n",
       "    <tr>\n",
       "      <th>1</th>\n",
       "      <td>00088930e925c41fd95ebfe695fd2655</td>\n",
       "      <td>Tuesday</td>\n",
       "      <td>1</td>\n",
       "    </tr>\n",
       "    <tr>\n",
       "      <th>2</th>\n",
       "      <td>0009406fd7479715e4bef61dd91f2462</td>\n",
       "      <td>Friday</td>\n",
       "      <td>1</td>\n",
       "    </tr>\n",
       "    <tr>\n",
       "      <th>3</th>\n",
       "      <td>000b8f95fcb9e0096488278317764d19</td>\n",
       "      <td>Friday</td>\n",
       "      <td>1</td>\n",
       "    </tr>\n",
       "    <tr>\n",
       "      <th>5</th>\n",
       "      <td>000d9be29b5207b54e86aa1b1ac54872</td>\n",
       "      <td>Tuesday</td>\n",
       "      <td>1</td>\n",
       "    </tr>\n",
       "    <tr>\n",
       "      <th>...</th>\n",
       "      <td>...</td>\n",
       "      <td>...</td>\n",
       "      <td>...</td>\n",
       "    </tr>\n",
       "    <tr>\n",
       "      <th>60785</th>\n",
       "      <td>fff6177642830a9a94a0f2cba5e476d1</td>\n",
       "      <td>Monday</td>\n",
       "      <td>1</td>\n",
       "    </tr>\n",
       "    <tr>\n",
       "      <th>60787</th>\n",
       "      <td>fff81cc3158d2725c0655ab9ba0f712c</td>\n",
       "      <td>Monday</td>\n",
       "      <td>1</td>\n",
       "    </tr>\n",
       "    <tr>\n",
       "      <th>60788</th>\n",
       "      <td>fff9553ac224cec9d15d49f5a263411f</td>\n",
       "      <td>Saturday</td>\n",
       "      <td>1</td>\n",
       "    </tr>\n",
       "    <tr>\n",
       "      <th>60789</th>\n",
       "      <td>fffdb2d0ec8d6a61f0a0a0db3f25b441</td>\n",
       "      <td>Friday</td>\n",
       "      <td>1</td>\n",
       "    </tr>\n",
       "    <tr>\n",
       "      <th>60792</th>\n",
       "      <td>fffe9eeff12fcbd74a2f2b007dde0c58</td>\n",
       "      <td>Wednesday</td>\n",
       "      <td>1</td>\n",
       "    </tr>\n",
       "  </tbody>\n",
       "</table>\n",
       "<p>32726 rows × 3 columns</p>\n",
       "</div>"
      ],
      "text/plain": [
       "                             product_id purchase_day  purchase_count\n",
       "0      00066f42aeeb9f3007548bb9d3f33c38       Sunday               1\n",
       "1      00088930e925c41fd95ebfe695fd2655      Tuesday               1\n",
       "2      0009406fd7479715e4bef61dd91f2462       Friday               1\n",
       "3      000b8f95fcb9e0096488278317764d19       Friday               1\n",
       "5      000d9be29b5207b54e86aa1b1ac54872      Tuesday               1\n",
       "...                                 ...          ...             ...\n",
       "60785  fff6177642830a9a94a0f2cba5e476d1       Monday               1\n",
       "60787  fff81cc3158d2725c0655ab9ba0f712c       Monday               1\n",
       "60788  fff9553ac224cec9d15d49f5a263411f     Saturday               1\n",
       "60789  fffdb2d0ec8d6a61f0a0a0db3f25b441       Friday               1\n",
       "60792  fffe9eeff12fcbd74a2f2b007dde0c58    Wednesday               1\n",
       "\n",
       "[32726 rows x 3 columns]"
      ]
     },
     "execution_count": 33,
     "metadata": {},
     "output_type": "execute_result"
    }
   ],
   "source": [
    "#согласно методолгии, описанной выше, выбираем покупки и выбираем день недели для каждого товара, когда его покупали чаще всего\n",
    "#ответ задание_3\n",
    "df_orders_and_items['order_approved']=df_orders_and_items.order_approved_at.notna()\n",
    "df_orders_and_items\\\n",
    "    .query(\"order_approved == True and order_status != 'canceled' and order_status != 'unavailable'\")\\\n",
    "    .groupby (['product_id', 'purchase_day'],as_index=False)\\\n",
    "    .agg({'order_id':'count'})\\\n",
    "    .rename(columns={\"order_id\":\"purchase_count\"})\\\n",
    "    .drop_duplicates(subset=[\"product_id\"], keep='first') "
   ]
  },
  {
   "cell_type": "markdown",
   "metadata": {},
   "source": [
    "# 4. Сколько у каждого из пользователей в среднем покупок в неделю (по месяцам)?"
   ]
  },
  {
   "cell_type": "code",
   "execution_count": 35,
   "metadata": {},
   "outputs": [],
   "source": [
    "#извлечем из даты день недели\n",
    "df_customers_and_orders['purchase_month']=df_customers_and_orders.order_approved_at.dt.month_name()"
   ]
  },
  {
   "cell_type": "code",
   "execution_count": 36,
   "metadata": {},
   "outputs": [],
   "source": [
    "# вычисяем кол-во недель в каждом месяце\n",
    "df_customers_and_orders['weeks'] = df_customers_and_orders.order_approved_at.dt.days_in_month / 7"
   ]
  },
  {
   "cell_type": "code",
   "execution_count": 37,
   "metadata": {},
   "outputs": [],
   "source": [
    "customer_purchases_avg = df_customers_and_orders\\\n",
    "    .query(\"order_approved == True and order_status != 'canceled' and order_status != 'unavailable'\")\\\n",
    "    .groupby(['customer_unique_id', 'purchase_month', 'weeks'], as_index=False)\\\n",
    "    .agg({'order_id':'count'})\\\n",
    "    .rename(columns={'order_id':'purchases'}) "
   ]
  },
  {
   "cell_type": "code",
   "execution_count": 38,
   "metadata": {},
   "outputs": [],
   "source": [
    "customer_purchases_avg['purchases_avg'] = round(customer_purchases_avg.purchases/customer_purchases_avg.weeks,2)"
   ]
  },
  {
   "cell_type": "code",
   "execution_count": 39,
   "metadata": {},
   "outputs": [
    {
     "data": {
      "text/html": [
       "<div>\n",
       "<style scoped>\n",
       "    .dataframe tbody tr th:only-of-type {\n",
       "        vertical-align: middle;\n",
       "    }\n",
       "\n",
       "    .dataframe tbody tr th {\n",
       "        vertical-align: top;\n",
       "    }\n",
       "\n",
       "    .dataframe thead th {\n",
       "        text-align: right;\n",
       "    }\n",
       "</style>\n",
       "<table border=\"1\" class=\"dataframe\">\n",
       "  <thead>\n",
       "    <tr style=\"text-align: right;\">\n",
       "      <th></th>\n",
       "      <th>customer_unique_id</th>\n",
       "      <th>purchase_month</th>\n",
       "      <th>weeks</th>\n",
       "      <th>purchases</th>\n",
       "      <th>purchases_avg</th>\n",
       "    </tr>\n",
       "  </thead>\n",
       "  <tbody>\n",
       "    <tr>\n",
       "      <th>7229</th>\n",
       "      <td>12f5d6e1cbf93dafd9dcc19095df0b3d</td>\n",
       "      <td>January</td>\n",
       "      <td>4.428571</td>\n",
       "      <td>6</td>\n",
       "      <td>1.35</td>\n",
       "    </tr>\n",
       "    <tr>\n",
       "      <th>61405</th>\n",
       "      <td>a239b8e2fbce33780f1f1912e2ee5275</td>\n",
       "      <td>February</td>\n",
       "      <td>4.000000</td>\n",
       "      <td>4</td>\n",
       "      <td>1.00</td>\n",
       "    </tr>\n",
       "    <tr>\n",
       "      <th>23636</th>\n",
       "      <td>3e43e6105506432c953e165fb2acf44c</td>\n",
       "      <td>February</td>\n",
       "      <td>4.000000</td>\n",
       "      <td>4</td>\n",
       "      <td>1.00</td>\n",
       "    </tr>\n",
       "    <tr>\n",
       "      <th>68508</th>\n",
       "      <td>b4e4f24de1e8725b74e4a1f4975116ed</td>\n",
       "      <td>February</td>\n",
       "      <td>4.000000</td>\n",
       "      <td>4</td>\n",
       "      <td>1.00</td>\n",
       "    </tr>\n",
       "    <tr>\n",
       "      <th>14305</th>\n",
       "      <td>25a560b9a6006157838aab1bdbd68624</td>\n",
       "      <td>April</td>\n",
       "      <td>4.285714</td>\n",
       "      <td>4</td>\n",
       "      <td>0.93</td>\n",
       "    </tr>\n",
       "    <tr>\n",
       "      <th>...</th>\n",
       "      <td>...</td>\n",
       "      <td>...</td>\n",
       "      <td>...</td>\n",
       "      <td>...</td>\n",
       "      <td>...</td>\n",
       "    </tr>\n",
       "    <tr>\n",
       "      <th>33855</th>\n",
       "      <td>59299ea0e75eec7b97507e1dc6ac13d1</td>\n",
       "      <td>January</td>\n",
       "      <td>4.428571</td>\n",
       "      <td>1</td>\n",
       "      <td>0.23</td>\n",
       "    </tr>\n",
       "    <tr>\n",
       "      <th>33854</th>\n",
       "      <td>59293545b02da9dd4e3e704c7e73f0d6</td>\n",
       "      <td>November</td>\n",
       "      <td>4.285714</td>\n",
       "      <td>1</td>\n",
       "      <td>0.23</td>\n",
       "    </tr>\n",
       "    <tr>\n",
       "      <th>33853</th>\n",
       "      <td>592891bfd137d0161b5209a387a4e9cb</td>\n",
       "      <td>March</td>\n",
       "      <td>4.428571</td>\n",
       "      <td>1</td>\n",
       "      <td>0.23</td>\n",
       "    </tr>\n",
       "    <tr>\n",
       "      <th>33852</th>\n",
       "      <td>5928064347952cf183a6d7ebc709f5b5</td>\n",
       "      <td>October</td>\n",
       "      <td>4.428571</td>\n",
       "      <td>1</td>\n",
       "      <td>0.23</td>\n",
       "    </tr>\n",
       "    <tr>\n",
       "      <th>96803</th>\n",
       "      <td>ffffd2657e2aad2907e67c3e9daecbeb</td>\n",
       "      <td>May</td>\n",
       "      <td>4.428571</td>\n",
       "      <td>1</td>\n",
       "      <td>0.23</td>\n",
       "    </tr>\n",
       "  </tbody>\n",
       "</table>\n",
       "<p>96804 rows × 5 columns</p>\n",
       "</div>"
      ],
      "text/plain": [
       "                     customer_unique_id purchase_month     weeks  purchases  \\\n",
       "7229   12f5d6e1cbf93dafd9dcc19095df0b3d        January  4.428571          6   \n",
       "61405  a239b8e2fbce33780f1f1912e2ee5275       February  4.000000          4   \n",
       "23636  3e43e6105506432c953e165fb2acf44c       February  4.000000          4   \n",
       "68508  b4e4f24de1e8725b74e4a1f4975116ed       February  4.000000          4   \n",
       "14305  25a560b9a6006157838aab1bdbd68624          April  4.285714          4   \n",
       "...                                 ...            ...       ...        ...   \n",
       "33855  59299ea0e75eec7b97507e1dc6ac13d1        January  4.428571          1   \n",
       "33854  59293545b02da9dd4e3e704c7e73f0d6       November  4.285714          1   \n",
       "33853  592891bfd137d0161b5209a387a4e9cb          March  4.428571          1   \n",
       "33852  5928064347952cf183a6d7ebc709f5b5        October  4.428571          1   \n",
       "96803  ffffd2657e2aad2907e67c3e9daecbeb            May  4.428571          1   \n",
       "\n",
       "       purchases_avg  \n",
       "7229            1.35  \n",
       "61405           1.00  \n",
       "23636           1.00  \n",
       "68508           1.00  \n",
       "14305           0.93  \n",
       "...              ...  \n",
       "33855           0.23  \n",
       "33854           0.23  \n",
       "33853           0.23  \n",
       "33852           0.23  \n",
       "96803           0.23  \n",
       "\n",
       "[96804 rows x 5 columns]"
      ]
     },
     "execution_count": 39,
     "metadata": {},
     "output_type": "execute_result"
    }
   ],
   "source": [
    "#ответ задание_4\n",
    "customer_purchases_avg.sort_values(by='purchases_avg', ascending=False)"
   ]
  },
  {
   "cell_type": "code",
   "execution_count": 40,
   "metadata": {},
   "outputs": [
    {
     "data": {
      "text/plain": [
       "True"
      ]
     },
     "execution_count": 40,
     "metadata": {},
     "output_type": "execute_result"
    }
   ],
   "source": [
    "#проверим, все ли пользователи, которые совершали покупки, учтены\n",
    "df_customers_and_orders\\\n",
    "    .query(\"order_approved == True and order_status != 'canceled' and order_status != 'unavailable'\")\\\n",
    "    .customer_unique_id.nunique() == customer_purchases_avg.customer_unique_id.nunique() "
   ]
  },
  {
   "cell_type": "markdown",
   "metadata": {},
   "source": [
    "# 5. Используя pandas, проведи когортный анализ пользователей. В период с января по декабрь выяви когорту с самым высоким retention на 3й месяц."
   ]
  },
  {
   "cell_type": "code",
   "execution_count": 41,
   "metadata": {},
   "outputs": [],
   "source": [
    "#сначала отберем только покупки\n",
    "df_purchases=df_customers_and_orders\\\n",
    "    .query(\"order_approved == True and order_status != 'canceled' and order_status != 'unavailable'\")"
   ]
  },
  {
   "cell_type": "code",
   "execution_count": 42,
   "metadata": {},
   "outputs": [
    {
     "name": "stderr",
     "output_type": "stream",
     "text": [
      "/opt/tljh/user/lib/python3.7/site-packages/ipykernel_launcher.py:2: SettingWithCopyWarning: \n",
      "A value is trying to be set on a copy of a slice from a DataFrame.\n",
      "Try using .loc[row_indexer,col_indexer] = value instead\n",
      "\n",
      "See the caveats in the documentation: https://pandas.pydata.org/pandas-docs/stable/user_guide/indexing.html#returning-a-view-versus-a-copy\n",
      "  \n"
     ]
    }
   ],
   "source": [
    "#создадим колонку с годом и месяцем покупки и отсортируем данные по ней\n",
    "df_purchases['year_month']=df_purchases.order_approved_at.dt.to_period('M')\n",
    "df_purchases = df_purchases.sort_values(by='year_month')"
   ]
  },
  {
   "cell_type": "code",
   "execution_count": 43,
   "metadata": {},
   "outputs": [],
   "source": [
    "#оставим только нужные колонки\n",
    "df_purchases = df_purchases[['customer_unique_id','order_id','year_month']]"
   ]
  },
  {
   "cell_type": "code",
   "execution_count": 44,
   "metadata": {},
   "outputs": [
    {
     "data": {
      "text/html": [
       "<div>\n",
       "<style scoped>\n",
       "    .dataframe tbody tr th:only-of-type {\n",
       "        vertical-align: middle;\n",
       "    }\n",
       "\n",
       "    .dataframe tbody tr th {\n",
       "        vertical-align: top;\n",
       "    }\n",
       "\n",
       "    .dataframe thead th {\n",
       "        text-align: right;\n",
       "    }\n",
       "</style>\n",
       "<table border=\"1\" class=\"dataframe\">\n",
       "  <thead>\n",
       "    <tr style=\"text-align: right;\">\n",
       "      <th></th>\n",
       "      <th>customer_unique_id</th>\n",
       "      <th>first_purchase_month</th>\n",
       "    </tr>\n",
       "  </thead>\n",
       "  <tbody>\n",
       "    <tr>\n",
       "      <th>0</th>\n",
       "      <td>0000366f3b9a7992bf8c76cfdf3221e2</td>\n",
       "      <td>2018-05</td>\n",
       "    </tr>\n",
       "    <tr>\n",
       "      <th>1</th>\n",
       "      <td>0000b849f77a49e4a4ce2b2a4ca5be3f</td>\n",
       "      <td>2018-05</td>\n",
       "    </tr>\n",
       "    <tr>\n",
       "      <th>2</th>\n",
       "      <td>0000f46a3911fa3c0805444483337064</td>\n",
       "      <td>2017-03</td>\n",
       "    </tr>\n",
       "    <tr>\n",
       "      <th>3</th>\n",
       "      <td>0000f6ccb0745a6a4b88665a16c9f078</td>\n",
       "      <td>2017-10</td>\n",
       "    </tr>\n",
       "    <tr>\n",
       "      <th>4</th>\n",
       "      <td>0004aac84e0df4da2b147fca70cf8255</td>\n",
       "      <td>2017-11</td>\n",
       "    </tr>\n",
       "  </tbody>\n",
       "</table>\n",
       "</div>"
      ],
      "text/plain": [
       "                 customer_unique_id first_purchase_month\n",
       "0  0000366f3b9a7992bf8c76cfdf3221e2              2018-05\n",
       "1  0000b849f77a49e4a4ce2b2a4ca5be3f              2018-05\n",
       "2  0000f46a3911fa3c0805444483337064              2017-03\n",
       "3  0000f6ccb0745a6a4b88665a16c9f078              2017-10\n",
       "4  0004aac84e0df4da2b147fca70cf8255              2017-11"
      ]
     },
     "execution_count": 44,
     "metadata": {},
     "output_type": "execute_result"
    }
   ],
   "source": [
    "#создадим таблицу с датой первой покупки\n",
    "df_first_purchases = df_purchases\\\n",
    "    .groupby('customer_unique_id',as_index=False)\\\n",
    "    .agg({'year_month':'first'})\\\n",
    "    .rename(columns={'year_month':'first_purchase_month'})\n",
    "df_first_purchases.head()"
   ]
  },
  {
   "cell_type": "code",
   "execution_count": 45,
   "metadata": {},
   "outputs": [],
   "source": [
    "#объединим 2 датасета\n",
    "df_purchases_2 = df_purchases.merge(df_first_purchases, on = 'customer_unique_id')"
   ]
  },
  {
   "cell_type": "code",
   "execution_count": 46,
   "metadata": {},
   "outputs": [],
   "source": [
    "df_purchases_2 = df_purchases_2\\\n",
    "    .groupby(['first_purchase_month','year_month'])\\\n",
    "    .agg({'customer_unique_id':'count'})"
   ]
  },
  {
   "cell_type": "code",
   "execution_count": 47,
   "metadata": {},
   "outputs": [
    {
     "data": {
      "text/html": [
       "<div>\n",
       "<style scoped>\n",
       "    .dataframe tbody tr th:only-of-type {\n",
       "        vertical-align: middle;\n",
       "    }\n",
       "\n",
       "    .dataframe tbody tr th {\n",
       "        vertical-align: top;\n",
       "    }\n",
       "\n",
       "    .dataframe thead th {\n",
       "        text-align: right;\n",
       "    }\n",
       "</style>\n",
       "<table border=\"1\" class=\"dataframe\">\n",
       "  <thead>\n",
       "    <tr style=\"text-align: right;\">\n",
       "      <th></th>\n",
       "      <th></th>\n",
       "      <th>customer_unique_id</th>\n",
       "      <th>cohort_period</th>\n",
       "    </tr>\n",
       "    <tr>\n",
       "      <th>first_purchase_month</th>\n",
       "      <th>year_month</th>\n",
       "      <th></th>\n",
       "      <th></th>\n",
       "    </tr>\n",
       "  </thead>\n",
       "  <tbody>\n",
       "    <tr>\n",
       "      <th>2016-09</th>\n",
       "      <th>2016-09</th>\n",
       "      <td>1</td>\n",
       "      <td>1</td>\n",
       "    </tr>\n",
       "    <tr>\n",
       "      <th rowspan=\"4\" valign=\"top\">2016-10</th>\n",
       "      <th>2016-10</th>\n",
       "      <td>294</td>\n",
       "      <td>1</td>\n",
       "    </tr>\n",
       "    <tr>\n",
       "      <th>2017-04</th>\n",
       "      <td>1</td>\n",
       "      <td>2</td>\n",
       "    </tr>\n",
       "    <tr>\n",
       "      <th>2017-07</th>\n",
       "      <td>1</td>\n",
       "      <td>3</td>\n",
       "    </tr>\n",
       "    <tr>\n",
       "      <th>2017-09</th>\n",
       "      <td>1</td>\n",
       "      <td>4</td>\n",
       "    </tr>\n",
       "  </tbody>\n",
       "</table>\n",
       "</div>"
      ],
      "text/plain": [
       "                                 customer_unique_id  cohort_period\n",
       "first_purchase_month year_month                                   \n",
       "2016-09              2016-09                      1              1\n",
       "2016-10              2016-10                    294              1\n",
       "                     2017-04                      1              2\n",
       "                     2017-07                      1              3\n",
       "                     2017-09                      1              4"
      ]
     },
     "execution_count": 47,
     "metadata": {},
     "output_type": "execute_result"
    }
   ],
   "source": [
    "#функция, которая считает когорту\n",
    "def cohort_period(df):\n",
    "    df['cohort_period'] = np.arange(len(df)) + 1 # отсчет с 1 return df\n",
    "    return df\n",
    "\n",
    "df_purchases_2 = df_purchases_2.groupby(level=0).apply(cohort_period)\n",
    "df_purchases_2.head()"
   ]
  },
  {
   "cell_type": "code",
   "execution_count": 48,
   "metadata": {},
   "outputs": [
    {
     "data": {
      "text/html": [
       "<div>\n",
       "<style scoped>\n",
       "    .dataframe tbody tr th:only-of-type {\n",
       "        vertical-align: middle;\n",
       "    }\n",
       "\n",
       "    .dataframe tbody tr th {\n",
       "        vertical-align: top;\n",
       "    }\n",
       "\n",
       "    .dataframe thead th {\n",
       "        text-align: right;\n",
       "    }\n",
       "</style>\n",
       "<table border=\"1\" class=\"dataframe\">\n",
       "  <thead>\n",
       "    <tr style=\"text-align: right;\">\n",
       "      <th>cohort_period</th>\n",
       "      <th>1</th>\n",
       "      <th>2</th>\n",
       "      <th>3</th>\n",
       "      <th>4</th>\n",
       "      <th>5</th>\n",
       "      <th>6</th>\n",
       "      <th>7</th>\n",
       "      <th>8</th>\n",
       "      <th>9</th>\n",
       "      <th>10</th>\n",
       "      <th>11</th>\n",
       "      <th>12</th>\n",
       "      <th>13</th>\n",
       "      <th>14</th>\n",
       "      <th>15</th>\n",
       "      <th>16</th>\n",
       "      <th>17</th>\n",
       "      <th>18</th>\n",
       "    </tr>\n",
       "    <tr>\n",
       "      <th>first_purchase_month</th>\n",
       "      <th></th>\n",
       "      <th></th>\n",
       "      <th></th>\n",
       "      <th></th>\n",
       "      <th></th>\n",
       "      <th></th>\n",
       "      <th></th>\n",
       "      <th></th>\n",
       "      <th></th>\n",
       "      <th></th>\n",
       "      <th></th>\n",
       "      <th></th>\n",
       "      <th></th>\n",
       "      <th></th>\n",
       "      <th></th>\n",
       "      <th></th>\n",
       "      <th></th>\n",
       "      <th></th>\n",
       "    </tr>\n",
       "  </thead>\n",
       "  <tbody>\n",
       "    <tr>\n",
       "      <th>2016-09</th>\n",
       "      <td>1.0</td>\n",
       "      <td>NaN</td>\n",
       "      <td>NaN</td>\n",
       "      <td>NaN</td>\n",
       "      <td>NaN</td>\n",
       "      <td>NaN</td>\n",
       "      <td>NaN</td>\n",
       "      <td>NaN</td>\n",
       "      <td>NaN</td>\n",
       "      <td>NaN</td>\n",
       "      <td>NaN</td>\n",
       "      <td>NaN</td>\n",
       "      <td>NaN</td>\n",
       "      <td>NaN</td>\n",
       "      <td>NaN</td>\n",
       "      <td>NaN</td>\n",
       "      <td>NaN</td>\n",
       "      <td>NaN</td>\n",
       "    </tr>\n",
       "    <tr>\n",
       "      <th>2016-10</th>\n",
       "      <td>294.0</td>\n",
       "      <td>1.0</td>\n",
       "      <td>1.0</td>\n",
       "      <td>1.0</td>\n",
       "      <td>1.0</td>\n",
       "      <td>1.0</td>\n",
       "      <td>1.0</td>\n",
       "      <td>2.0</td>\n",
       "      <td>2.0</td>\n",
       "      <td>NaN</td>\n",
       "      <td>NaN</td>\n",
       "      <td>NaN</td>\n",
       "      <td>NaN</td>\n",
       "      <td>NaN</td>\n",
       "      <td>NaN</td>\n",
       "      <td>NaN</td>\n",
       "      <td>NaN</td>\n",
       "      <td>NaN</td>\n",
       "    </tr>\n",
       "    <tr>\n",
       "      <th>2016-12</th>\n",
       "      <td>1.0</td>\n",
       "      <td>1.0</td>\n",
       "      <td>NaN</td>\n",
       "      <td>NaN</td>\n",
       "      <td>NaN</td>\n",
       "      <td>NaN</td>\n",
       "      <td>NaN</td>\n",
       "      <td>NaN</td>\n",
       "      <td>NaN</td>\n",
       "      <td>NaN</td>\n",
       "      <td>NaN</td>\n",
       "      <td>NaN</td>\n",
       "      <td>NaN</td>\n",
       "      <td>NaN</td>\n",
       "      <td>NaN</td>\n",
       "      <td>NaN</td>\n",
       "      <td>NaN</td>\n",
       "      <td>NaN</td>\n",
       "    </tr>\n",
       "    <tr>\n",
       "      <th>2017-01</th>\n",
       "      <td>749.0</td>\n",
       "      <td>4.0</td>\n",
       "      <td>2.0</td>\n",
       "      <td>1.0</td>\n",
       "      <td>3.0</td>\n",
       "      <td>1.0</td>\n",
       "      <td>3.0</td>\n",
       "      <td>1.0</td>\n",
       "      <td>1.0</td>\n",
       "      <td>2.0</td>\n",
       "      <td>2.0</td>\n",
       "      <td>5.0</td>\n",
       "      <td>3.0</td>\n",
       "      <td>1.0</td>\n",
       "      <td>1.0</td>\n",
       "      <td>2.0</td>\n",
       "      <td>3.0</td>\n",
       "      <td>1.0</td>\n",
       "    </tr>\n",
       "    <tr>\n",
       "      <th>2017-02</th>\n",
       "      <td>1699.0</td>\n",
       "      <td>4.0</td>\n",
       "      <td>4.0</td>\n",
       "      <td>3.0</td>\n",
       "      <td>7.0</td>\n",
       "      <td>2.0</td>\n",
       "      <td>4.0</td>\n",
       "      <td>3.0</td>\n",
       "      <td>1.0</td>\n",
       "      <td>3.0</td>\n",
       "      <td>2.0</td>\n",
       "      <td>5.0</td>\n",
       "      <td>2.0</td>\n",
       "      <td>3.0</td>\n",
       "      <td>2.0</td>\n",
       "      <td>1.0</td>\n",
       "      <td>1.0</td>\n",
       "      <td>5.0</td>\n",
       "    </tr>\n",
       "  </tbody>\n",
       "</table>\n",
       "</div>"
      ],
      "text/plain": [
       "cohort_period             1    2    3    4    5    6    7    8    9    10  \\\n",
       "first_purchase_month                                                        \n",
       "2016-09                  1.0  NaN  NaN  NaN  NaN  NaN  NaN  NaN  NaN  NaN   \n",
       "2016-10                294.0  1.0  1.0  1.0  1.0  1.0  1.0  2.0  2.0  NaN   \n",
       "2016-12                  1.0  1.0  NaN  NaN  NaN  NaN  NaN  NaN  NaN  NaN   \n",
       "2017-01                749.0  4.0  2.0  1.0  3.0  1.0  3.0  1.0  1.0  2.0   \n",
       "2017-02               1699.0  4.0  4.0  3.0  7.0  2.0  4.0  3.0  1.0  3.0   \n",
       "\n",
       "cohort_period          11   12   13   14   15   16   17   18  \n",
       "first_purchase_month                                          \n",
       "2016-09               NaN  NaN  NaN  NaN  NaN  NaN  NaN  NaN  \n",
       "2016-10               NaN  NaN  NaN  NaN  NaN  NaN  NaN  NaN  \n",
       "2016-12               NaN  NaN  NaN  NaN  NaN  NaN  NaN  NaN  \n",
       "2017-01               2.0  5.0  3.0  1.0  1.0  2.0  3.0  1.0  \n",
       "2017-02               2.0  5.0  2.0  3.0  2.0  1.0  1.0  5.0  "
      ]
     },
     "execution_count": 48,
     "metadata": {},
     "output_type": "execute_result"
    }
   ],
   "source": [
    "#конвертируем датафрэйм в сводную таблицу\n",
    "df_purchases_pivot = df_purchases_2.pivot_table(columns='cohort_period', index = 'first_purchase_month',values='customer_unique_id')\n",
    "df_purchases_pivot.head()"
   ]
  },
  {
   "cell_type": "code",
   "execution_count": 49,
   "metadata": {},
   "outputs": [],
   "source": [
    "#посмотрим доли возврата от первоначального размера когорты\n",
    "base = df_purchases_pivot[1]\n",
    "retention = df_purchases_pivot.divide(base, axis=0).round(4)"
   ]
  },
  {
   "cell_type": "code",
   "execution_count": 50,
   "metadata": {},
   "outputs": [
    {
     "data": {
      "text/plain": [
       "PeriodIndex(['2017-05'], dtype='period[M]', name='first_purchase_month', freq='M')"
      ]
     },
     "execution_count": 50,
     "metadata": {},
     "output_type": "execute_result"
    }
   ],
   "source": [
    "#определим когорту с самым высоким retention на 3й месяц\n",
    "retention[retention[3] == retention[3].max()].index"
   ]
  },
  {
   "cell_type": "code",
   "execution_count": 51,
   "metadata": {},
   "outputs": [
    {
     "data": {
      "text/plain": [
       "<matplotlib.axes._subplots.AxesSubplot at 0x7fdfd013e6d8>"
      ]
     },
     "execution_count": 51,
     "metadata": {},
     "output_type": "execute_result"
    },
    {
     "data": {
      "image/png": "[encoded data removed]",
      "text/plain": [
       "<Figure size 1728x1152 with 2 Axes>"
      ]
     },
     "metadata": {},
     "output_type": "display_data"
    }
   ],
   "source": [
    "#визуализируем когорты\n",
    "plt.rcParams['font.size'] = '11'\n",
    "sns.set(style='ticks')\n",
    "plt.figure(figsize=(24, 16))\n",
    "plt.title('Cohorts: Customer Retention')\n",
    "sns.heatmap(data=retention, annot=True, vmin=0.0,vmax=0.008, fmt='.2%',cmap='Blues' )"
   ]
  },
  {
   "cell_type": "markdown",
   "metadata": {},
   "source": [
    "ответ задание_5 у когорты мая 2017 годасамый высокий retention на 3й месяц"
   ]
  },
  {
   "cell_type": "markdown",
   "metadata": {},
   "source": [
    "# 6.  Используя python, построй RFM-сегментацию пользователей, чтобы качественно оценить свою аудиторию."
   ]
  },
  {
   "cell_type": "code",
   "execution_count": 52,
   "metadata": {},
   "outputs": [],
   "source": [
    "#объеденим все датафреймы\n",
    "df_all=df_customers_and_orders.merge(df_order_items, on = 'order_id')"
   ]
  },
  {
   "cell_type": "code",
   "execution_count": 53,
   "metadata": {},
   "outputs": [],
   "source": [
    "#отберем только покупки\n",
    "df_all_purchases = df_all\\\n",
    "    .query(\"order_approved == True and order_status != 'canceled' and order_status != 'unavailable'\")"
   ]
  },
  {
   "cell_type": "code",
   "execution_count": 54,
   "metadata": {},
   "outputs": [],
   "source": [
    "#удалим все пропуски\n",
    "df_all_purchases = df_all_purchases.dropna()"
   ]
  },
  {
   "cell_type": "code",
   "execution_count": 55,
   "metadata": {},
   "outputs": [
    {
     "data": {
      "text/html": [
       "<div>\n",
       "<style scoped>\n",
       "    .dataframe tbody tr th:only-of-type {\n",
       "        vertical-align: middle;\n",
       "    }\n",
       "\n",
       "    .dataframe tbody tr th {\n",
       "        vertical-align: top;\n",
       "    }\n",
       "\n",
       "    .dataframe thead th {\n",
       "        text-align: right;\n",
       "    }\n",
       "</style>\n",
       "<table border=\"1\" class=\"dataframe\">\n",
       "  <thead>\n",
       "    <tr style=\"text-align: right;\">\n",
       "      <th></th>\n",
       "      <th>customer_unique_id</th>\n",
       "      <th>order_id</th>\n",
       "      <th>order_approved_at</th>\n",
       "      <th>price</th>\n",
       "    </tr>\n",
       "  </thead>\n",
       "  <tbody>\n",
       "    <tr>\n",
       "      <th>0</th>\n",
       "      <td>861eff4711a542e4b93843c6dd7febb0</td>\n",
       "      <td>00e7ee1b050b8499577073aeb2a297a1</td>\n",
       "      <td>2017-05-16 15:22:12</td>\n",
       "      <td>124.99</td>\n",
       "    </tr>\n",
       "    <tr>\n",
       "      <th>1</th>\n",
       "      <td>290c77bc529b7ac935b93aa66c333dc3</td>\n",
       "      <td>29150127e6685892b6eab3eec79f59c7</td>\n",
       "      <td>2018-01-12 20:58:32</td>\n",
       "      <td>289.00</td>\n",
       "    </tr>\n",
       "    <tr>\n",
       "      <th>2</th>\n",
       "      <td>060e732b5b29e8181a18229c7b0b2b5e</td>\n",
       "      <td>b2059ed67ce144a36e2aa97d2c9e9ad2</td>\n",
       "      <td>2018-05-20 16:19:10</td>\n",
       "      <td>139.94</td>\n",
       "    </tr>\n",
       "    <tr>\n",
       "      <th>3</th>\n",
       "      <td>259dac757896d24d7702b9acbbff3f3c</td>\n",
       "      <td>951670f92359f4fe4a63112aa7306eba</td>\n",
       "      <td>2018-03-13 17:29:19</td>\n",
       "      <td>149.94</td>\n",
       "    </tr>\n",
       "    <tr>\n",
       "      <th>4</th>\n",
       "      <td>345ecd01c38d18a9036ed96c73b8d066</td>\n",
       "      <td>6b7d50bd145f6fc7f33cebabd7e49d0f</td>\n",
       "      <td>2018-07-29 10:10:09</td>\n",
       "      <td>230.00</td>\n",
       "    </tr>\n",
       "  </tbody>\n",
       "</table>\n",
       "</div>"
      ],
      "text/plain": [
       "                 customer_unique_id                          order_id  \\\n",
       "0  861eff4711a542e4b93843c6dd7febb0  00e7ee1b050b8499577073aeb2a297a1   \n",
       "1  290c77bc529b7ac935b93aa66c333dc3  29150127e6685892b6eab3eec79f59c7   \n",
       "2  060e732b5b29e8181a18229c7b0b2b5e  b2059ed67ce144a36e2aa97d2c9e9ad2   \n",
       "3  259dac757896d24d7702b9acbbff3f3c  951670f92359f4fe4a63112aa7306eba   \n",
       "4  345ecd01c38d18a9036ed96c73b8d066  6b7d50bd145f6fc7f33cebabd7e49d0f   \n",
       "\n",
       "    order_approved_at   price  \n",
       "0 2017-05-16 15:22:12  124.99  \n",
       "1 2018-01-12 20:58:32  289.00  \n",
       "2 2018-05-20 16:19:10  139.94  \n",
       "3 2018-03-13 17:29:19  149.94  \n",
       "4 2018-07-29 10:10:09  230.00  "
      ]
     },
     "execution_count": 55,
     "metadata": {},
     "output_type": "execute_result"
    }
   ],
   "source": [
    "#оставим только нужные колонки\n",
    "df_all_purchases = df_all_purchases[['customer_unique_id','order_id','order_approved_at','price']]\n",
    "df_all_purchases.head()"
   ]
  },
  {
   "cell_type": "code",
   "execution_count": 56,
   "metadata": {},
   "outputs": [],
   "source": [
    "#переведем дату в нужный формат\n",
    "df_all_purchases.order_approved_at = pd.to_datetime(df_all_purchases.order_approved_at)"
   ]
  },
  {
   "cell_type": "code",
   "execution_count": 57,
   "metadata": {},
   "outputs": [
    {
     "data": {
      "text/html": [
       "<div>\n",
       "<style scoped>\n",
       "    .dataframe tbody tr th:only-of-type {\n",
       "        vertical-align: middle;\n",
       "    }\n",
       "\n",
       "    .dataframe tbody tr th {\n",
       "        vertical-align: top;\n",
       "    }\n",
       "\n",
       "    .dataframe thead th {\n",
       "        text-align: right;\n",
       "    }\n",
       "</style>\n",
       "<table border=\"1\" class=\"dataframe\">\n",
       "  <thead>\n",
       "    <tr style=\"text-align: right;\">\n",
       "      <th></th>\n",
       "      <th>customer_unique_id</th>\n",
       "      <th>order_id</th>\n",
       "      <th>order_approved_at</th>\n",
       "      <th>price</th>\n",
       "      <th>time_delta</th>\n",
       "    </tr>\n",
       "  </thead>\n",
       "  <tbody>\n",
       "    <tr>\n",
       "      <th>0</th>\n",
       "      <td>861eff4711a542e4b93843c6dd7febb0</td>\n",
       "      <td>00e7ee1b050b8499577073aeb2a297a1</td>\n",
       "      <td>2017-05-16 15:22:12</td>\n",
       "      <td>124.99</td>\n",
       "      <td>470</td>\n",
       "    </tr>\n",
       "    <tr>\n",
       "      <th>1</th>\n",
       "      <td>290c77bc529b7ac935b93aa66c333dc3</td>\n",
       "      <td>29150127e6685892b6eab3eec79f59c7</td>\n",
       "      <td>2018-01-12 20:58:32</td>\n",
       "      <td>289.00</td>\n",
       "      <td>229</td>\n",
       "    </tr>\n",
       "    <tr>\n",
       "      <th>2</th>\n",
       "      <td>060e732b5b29e8181a18229c7b0b2b5e</td>\n",
       "      <td>b2059ed67ce144a36e2aa97d2c9e9ad2</td>\n",
       "      <td>2018-05-20 16:19:10</td>\n",
       "      <td>139.94</td>\n",
       "      <td>101</td>\n",
       "    </tr>\n",
       "    <tr>\n",
       "      <th>3</th>\n",
       "      <td>259dac757896d24d7702b9acbbff3f3c</td>\n",
       "      <td>951670f92359f4fe4a63112aa7306eba</td>\n",
       "      <td>2018-03-13 17:29:19</td>\n",
       "      <td>149.94</td>\n",
       "      <td>169</td>\n",
       "    </tr>\n",
       "    <tr>\n",
       "      <th>4</th>\n",
       "      <td>345ecd01c38d18a9036ed96c73b8d066</td>\n",
       "      <td>6b7d50bd145f6fc7f33cebabd7e49d0f</td>\n",
       "      <td>2018-07-29 10:10:09</td>\n",
       "      <td>230.00</td>\n",
       "      <td>32</td>\n",
       "    </tr>\n",
       "  </tbody>\n",
       "</table>\n",
       "</div>"
      ],
      "text/plain": [
       "                 customer_unique_id                          order_id  \\\n",
       "0  861eff4711a542e4b93843c6dd7febb0  00e7ee1b050b8499577073aeb2a297a1   \n",
       "1  290c77bc529b7ac935b93aa66c333dc3  29150127e6685892b6eab3eec79f59c7   \n",
       "2  060e732b5b29e8181a18229c7b0b2b5e  b2059ed67ce144a36e2aa97d2c9e9ad2   \n",
       "3  259dac757896d24d7702b9acbbff3f3c  951670f92359f4fe4a63112aa7306eba   \n",
       "4  345ecd01c38d18a9036ed96c73b8d066  6b7d50bd145f6fc7f33cebabd7e49d0f   \n",
       "\n",
       "    order_approved_at   price  time_delta  \n",
       "0 2017-05-16 15:22:12  124.99         470  \n",
       "1 2018-01-12 20:58:32  289.00         229  \n",
       "2 2018-05-20 16:19:10  139.94         101  \n",
       "3 2018-03-13 17:29:19  149.94         169  \n",
       "4 2018-07-29 10:10:09  230.00          32  "
      ]
     },
     "execution_count": 57,
     "metadata": {},
     "output_type": "execute_result"
    }
   ],
   "source": [
    "#за текущую дату примем последнюю order_approved_at + 1 день, \n",
    "#так как неизвестно, когда формировалась выгрузка, но вероятно на следующий день от последней покупки\n",
    "#рассчитаем разницу между текущей датой и датой покупки\n",
    "now = df_all_purchases.order_approved_at.max() + timedelta(days=1)\n",
    "df_all_purchases['time_delta'] = df_all_purchases.order_approved_at.apply(lambda x: (now - x).days)\n",
    "df_all_purchases.head()"
   ]
  },
  {
   "cell_type": "code",
   "execution_count": 58,
   "metadata": {},
   "outputs": [],
   "source": [
    "#cоздадим таблицу RFM\n",
    "#R - время от последней покупки пользователя до текущей даты \n",
    "#F - суммарное количество покупок у пользователя за всё время \n",
    "#M - стоимость покупок за всё время\n",
    "#time_delta будем брать минимальное, чтобы учитывать время от последней покупки\n",
    "RFM = df_all_purchases\\\n",
    "    .groupby('customer_unique_id')\\\n",
    "    .agg({'time_delta': lambda x: x.min(), 'order_id':lambda x: len(x), 'price':lambda x: x.sum()})\\\n",
    "    .rename(columns={'time_delta': 'R', 'order_id': 'F', 'price': 'M'})"
   ]
  },
  {
   "cell_type": "markdown",
   "metadata": {},
   "source": [
    "определим границы интервалов:"
   ]
  },
  {
   "cell_type": "code",
   "execution_count": 59,
   "metadata": {},
   "outputs": [
    {
     "data": {
      "text/plain": [
       "1     87.563212\n",
       "2      9.422945\n",
       "3      1.763521\n",
       "4      0.665338\n",
       "5      0.258207\n",
       "6      0.203566\n",
       "7      0.048213\n",
       "8      0.017142\n",
       "10     0.011785\n",
       "11     0.011785\n",
       "9      0.010714\n",
       "12     0.009643\n",
       "14     0.003214\n",
       "15     0.003214\n",
       "13     0.002143\n",
       "20     0.002143\n",
       "21     0.001071\n",
       "18     0.001071\n",
       "24     0.001071\n",
       "Name: F, dtype: float64"
      ]
     },
     "execution_count": 59,
     "metadata": {},
     "output_type": "execute_result"
    }
   ],
   "source": [
    "#по предыдущему анализу данных помним, что большинство покупателей совершало 1 покупку, убедимся в этом\n",
    "RFM.F.value_counts(normalize=True).mul(100)"
   ]
  },
  {
   "cell_type": "markdown",
   "metadata": {},
   "source": [
    "так как действительно больше 87% покупателей совершило 1 покупку, считаю целесообразным выделить 3 следующих сегмента:\n",
    "\n",
    "1 покупка\n",
    "\n",
    "2-3 покупки\n",
    "\n",
    "больше 4 покупок"
   ]
  },
  {
   "cell_type": "code",
   "execution_count": 60,
   "metadata": {},
   "outputs": [
    {
     "data": {
      "text/plain": [
       "<matplotlib.axes._subplots.AxesSubplot at 0x7fdfd3277a90>"
      ]
     },
     "execution_count": 60,
     "metadata": {},
     "output_type": "execute_result"
    },
    {
     "data": {
      "image/png": "[encoded data removed]",
      "text/plain": [
       "<Figure size 432x288 with 1 Axes>"
      ]
     },
     "metadata": {},
     "output_type": "display_data"
    }
   ],
   "source": [
    "#посмотрим на распределение recency\n",
    "sns.histplot(data=RFM, x='R', kde=True)"
   ]
  },
  {
   "cell_type": "markdown",
   "metadata": {},
   "source": [
    "здесь мы можем увидеть, что после 300 дней количество покупателей начинает снижаться, но не зная специфики бизнеса, сложно определить, до какого количества дней можно считать, что покупки совершаются часто\n",
    "поэтому установим следующие границы интервалов:\n",
    "\n",
    "до 150 дней\n",
    "\n",
    "от 151 до 300 дней\n",
    "\n",
    "больше 300 дней"
   ]
  },
  {
   "cell_type": "code",
   "execution_count": 61,
   "metadata": {},
   "outputs": [
    {
     "data": {
      "text/plain": [
       "<matplotlib.axes._subplots.AxesSubplot at 0x7fdfd049ddd8>"
      ]
     },
     "execution_count": 61,
     "metadata": {},
     "output_type": "execute_result"
    },
    {
     "data": {
      "image/png": "[encoded data removed]",
      "text/plain": [
       "<Figure size 432x288 with 1 Axes>"
      ]
     },
     "metadata": {},
     "output_type": "display_data"
    }
   ],
   "source": [
    "#посмотрим на распределение monetary\n",
    "sns.histplot(data=RFM, x='M', kde=True)"
   ]
  },
  {
   "cell_type": "code",
   "execution_count": 62,
   "metadata": {},
   "outputs": [
    {
     "data": {
      "text/plain": [
       "<matplotlib.axes._subplots.AxesSubplot at 0x7fdfd0e4c9e8>"
      ]
     },
     "execution_count": 62,
     "metadata": {},
     "output_type": "execute_result"
    },
    {
     "data": {
      "image/png": "[encoded data removed]",
      "text/plain": [
       "<Figure size 432x288 with 1 Axes>"
      ]
     },
     "metadata": {},
     "output_type": "display_data"
    }
   ],
   "source": [
    "#так как много выбросов, попробуем их срезать и посмотреть на распределение\n",
    "RFM_2 = RFM.query('M<1500')\n",
    "sns.histplot(data=RFM_2, x='M', kde=True)"
   ]
  },
  {
   "cell_type": "markdown",
   "metadata": {},
   "source": [
    "большинство значений лежит в пределах от 0 до 200, от 200 до 400 количество покупателей резко снижается, после 400 можно сказать, что это редкие значения, поэтомы выделим 3 интервала:\n",
    "\n",
    "-до 200\n",
    "\n",
    "-201-400\n",
    "\n",
    "-больше 400"
   ]
  },
  {
   "cell_type": "code",
   "execution_count": 63,
   "metadata": {},
   "outputs": [],
   "source": [
    "#напишем функцию для присвоения рангов\n",
    "#1-лучший,2-среднийб 3 - худший\n",
    "def r_score(x):\n",
    "    if x <= 150:\n",
    "        return 1\n",
    "    elif x <= 300:\n",
    "        return 2\n",
    "    else:\n",
    "        return 3\n",
    "    \n",
    "def f_score(x):\n",
    "    if x == 1:\n",
    "        return 3\n",
    "    elif x <=3:\n",
    "        return 2\n",
    "    else:\n",
    "        return 1\n",
    "\n",
    "def m_score(x):\n",
    "    if x <= 200:\n",
    "        return 3\n",
    "    elif x <= 400:\n",
    "        return 2\n",
    "    else:\n",
    "        return 1    \n",
    "    "
   ]
  },
  {
   "cell_type": "code",
   "execution_count": 64,
   "metadata": {},
   "outputs": [
    {
     "data": {
      "text/html": [
       "<div>\n",
       "<style scoped>\n",
       "    .dataframe tbody tr th:only-of-type {\n",
       "        vertical-align: middle;\n",
       "    }\n",
       "\n",
       "    .dataframe tbody tr th {\n",
       "        vertical-align: top;\n",
       "    }\n",
       "\n",
       "    .dataframe thead th {\n",
       "        text-align: right;\n",
       "    }\n",
       "</style>\n",
       "<table border=\"1\" class=\"dataframe\">\n",
       "  <thead>\n",
       "    <tr style=\"text-align: right;\">\n",
       "      <th></th>\n",
       "      <th>R</th>\n",
       "      <th>F</th>\n",
       "      <th>M</th>\n",
       "      <th>R_rank</th>\n",
       "      <th>F_rank</th>\n",
       "      <th>M_rank</th>\n",
       "      <th>RFM_rank</th>\n",
       "    </tr>\n",
       "    <tr>\n",
       "      <th>customer_unique_id</th>\n",
       "      <th></th>\n",
       "      <th></th>\n",
       "      <th></th>\n",
       "      <th></th>\n",
       "      <th></th>\n",
       "      <th></th>\n",
       "      <th></th>\n",
       "    </tr>\n",
       "  </thead>\n",
       "  <tbody>\n",
       "    <tr>\n",
       "      <th>0000366f3b9a7992bf8c76cfdf3221e2</th>\n",
       "      <td>112</td>\n",
       "      <td>1</td>\n",
       "      <td>129.90</td>\n",
       "      <td>1</td>\n",
       "      <td>3</td>\n",
       "      <td>3</td>\n",
       "      <td>133</td>\n",
       "    </tr>\n",
       "    <tr>\n",
       "      <th>0000b849f77a49e4a4ce2b2a4ca5be3f</th>\n",
       "      <td>114</td>\n",
       "      <td>1</td>\n",
       "      <td>18.90</td>\n",
       "      <td>1</td>\n",
       "      <td>3</td>\n",
       "      <td>3</td>\n",
       "      <td>133</td>\n",
       "    </tr>\n",
       "    <tr>\n",
       "      <th>0000f46a3911fa3c0805444483337064</th>\n",
       "      <td>537</td>\n",
       "      <td>1</td>\n",
       "      <td>69.00</td>\n",
       "      <td>3</td>\n",
       "      <td>3</td>\n",
       "      <td>3</td>\n",
       "      <td>333</td>\n",
       "    </tr>\n",
       "    <tr>\n",
       "      <th>0000f6ccb0745a6a4b88665a16c9f078</th>\n",
       "      <td>321</td>\n",
       "      <td>1</td>\n",
       "      <td>25.99</td>\n",
       "      <td>3</td>\n",
       "      <td>3</td>\n",
       "      <td>3</td>\n",
       "      <td>333</td>\n",
       "    </tr>\n",
       "    <tr>\n",
       "      <th>0004aac84e0df4da2b147fca70cf8255</th>\n",
       "      <td>288</td>\n",
       "      <td>1</td>\n",
       "      <td>180.00</td>\n",
       "      <td>2</td>\n",
       "      <td>3</td>\n",
       "      <td>3</td>\n",
       "      <td>233</td>\n",
       "    </tr>\n",
       "  </tbody>\n",
       "</table>\n",
       "</div>"
      ],
      "text/plain": [
       "                                    R  F       M  R_rank  F_rank  M_rank  \\\n",
       "customer_unique_id                                                         \n",
       "0000366f3b9a7992bf8c76cfdf3221e2  112  1  129.90       1       3       3   \n",
       "0000b849f77a49e4a4ce2b2a4ca5be3f  114  1   18.90       1       3       3   \n",
       "0000f46a3911fa3c0805444483337064  537  1   69.00       3       3       3   \n",
       "0000f6ccb0745a6a4b88665a16c9f078  321  1   25.99       3       3       3   \n",
       "0004aac84e0df4da2b147fca70cf8255  288  1  180.00       2       3       3   \n",
       "\n",
       "                                 RFM_rank  \n",
       "customer_unique_id                         \n",
       "0000366f3b9a7992bf8c76cfdf3221e2      133  \n",
       "0000b849f77a49e4a4ce2b2a4ca5be3f      133  \n",
       "0000f46a3911fa3c0805444483337064      333  \n",
       "0000f6ccb0745a6a4b88665a16c9f078      333  \n",
       "0004aac84e0df4da2b147fca70cf8255      233  "
      ]
     },
     "execution_count": 64,
     "metadata": {},
     "output_type": "execute_result"
    }
   ],
   "source": [
    "#присваевоим RFM ранги пользователям\n",
    "RFM['R_rank'] = RFM['R'].apply(lambda x: r_score(x))\n",
    "RFM['F_rank'] = RFM['F'].apply(lambda x: f_score(x))\n",
    "RFM['M_rank'] = RFM['M'].apply(lambda x: m_score(x))\n",
    "RFM['RFM_rank'] = RFM['R_rank'].map(str) + RFM['F_rank'].map(str) + RFM['M_rank'].map(str)\n",
    "RFM.head()"
   ]
  },
  {
   "cell_type": "code",
   "execution_count": 65,
   "metadata": {},
   "outputs": [
    {
     "data": {
      "text/plain": [
       "233    26.20\n",
       "133    25.73\n",
       "333    23.76\n",
       "223     2.75\n",
       "232     2.72\n",
       "332     2.71\n",
       "123     2.58\n",
       "132     2.55\n",
       "323     2.45\n",
       "131     1.36\n",
       "331     1.29\n",
       "231     1.24\n",
       "122     0.91\n",
       "222     0.89\n",
       "322     0.71\n",
       "121     0.34\n",
       "221     0.28\n",
       "321     0.28\n",
       "113     0.16\n",
       "313     0.16\n",
       "111     0.16\n",
       "213     0.16\n",
       "112     0.14\n",
       "211     0.13\n",
       "212     0.12\n",
       "311     0.11\n",
       "312     0.10\n",
       "Name: RFM_rank, dtype: float64"
      ]
     },
     "execution_count": 65,
     "metadata": {},
     "output_type": "execute_result"
    }
   ],
   "source": [
    "#посмотрим долю каждого ранга\n",
    "RFM.RFM_rank.value_counts(normalize=True).mul(100).round(2)"
   ]
  },
  {
   "cell_type": "code",
   "execution_count": 66,
   "metadata": {},
   "outputs": [
    {
     "data": {
      "image/png": "[encoded data removed]",
      "text/plain": [
       "<Figure size 720x288 with 3 Axes>"
      ]
     },
     "metadata": {},
     "output_type": "display_data"
    }
   ],
   "source": [
    "#визуализируем результат\n",
    "fig, axes = plt.subplots(nrows=1, ncols=3, figsize=(10, 4))\n",
    "\n",
    "for i, p in enumerate(['R_rank', 'F_rank', 'M_rank']):\n",
    "    parameters = {'R_rank':'Recency', 'F_rank':'Frequency', 'M_rank':'Monetary'}\n",
    "    y = RFM[p].value_counts().sort_index()\n",
    "    x = y.index\n",
    "    ax = axes[i]\n",
    "    bars = ax.bar(x, y, color='silver')\n",
    "    ax.set_frame_on(False)\n",
    "    ax.tick_params(left=False, labelleft=False, bottom=False)\n",
    "    ax.set_title('Distribution of {}'.format(parameters[p]),\n",
    "                fontsize=14)\n",
    "    for bar in bars:\n",
    "        value = bar.get_height()\n",
    "        if value == y.max():\n",
    "            bar.set_color('firebrick')\n",
    "        ax.text(bar.get_x() + bar.get_width() / 2,\n",
    "                value - 5,\n",
    "                '{}\\n({}%)'.format(int(value), int(value * 100 / y.sum())),\n",
    "               ha='center',\n",
    "               va='top',\n",
    "               color='w')\n",
    "\n",
    "plt.show()"
   ]
  },
  {
   "cell_type": "markdown",
   "metadata": {},
   "source": [
    "Выводы задание_6:\n",
    "Данный RFM-анализ делит клиентскую базу на 9 сегментов в зависимости от частоты их покупок и их давности.\n",
    "\n",
    "По давности заказа (Recency):\n",
    "\n",
    "1 — недавние клиенты;2 — относительно недавние клиенты;3 — давние клиенты\n",
    "\n",
    "По частоте покупок (Frequency):\n",
    "\n",
    "1 — покупают часто;2 — покупают нечасто;3 — единичные покупки\n",
    "\n",
    "По сумме покупок (Monetary):\n",
    "\n",
    "1 — большая сумма;2 — средняя сумма;3 — маленькая сумма\n",
    "\n",
    "111\t- это \"чемпионы\", стратегически важные клиенты, они регулярно совершают покупки и пользуются услугами.\n",
    "\n",
    "*1*\t- это \"лояльные\" клиенты, которые тратят небольшие деньги, но при этом регулярно делают покупки.\n",
    "\n",
    "**1 - это клиенты, которые взаимодействуют с компанией нерегулярно, но при этом тратят большие суммы.\n",
    "\n",
    "33* - это уходящие клинты.\n",
    "\n",
    "333\t- это \"потерянные\" клиенты, которые давно не взаимодействуют с компанией.\n",
    "\n",
    "Основная доля наших клиентов (более 51%) - это клиенты, которые совершили 1 недорогую покупку относительно недавно (до 300 дней), следующая по величине категория (более 23%) - это \"потерянные\" клиенты. То есть у наших покупателей низкий средний чек, да и можно сказать, что низкий retention. \"Чемпионы\" в нашей базе составляют всего 0,16%\n"
   ]
  },
  {
   "cell_type": "code",
   "execution_count": null,
   "metadata": {},
   "outputs": [],
   "source": []
  }
 ],
 "metadata": {
  "kernelspec": {
   "display_name": "Python 3",
   "language": "python",
   "name": "python3"
  },
  "language_info": {
   "codemirror_mode": {
    "name": "ipython",
    "version": 3
   },
   "file_extension": ".py",
   "mimetype": "text/x-python",
   "name": "python",
   "nbconvert_exporter": "python",
   "pygments_lexer": "ipython3",
   "version": "3.7.3"
  }
 },
 "nbformat": 4,
 "nbformat_minor": 4
}
